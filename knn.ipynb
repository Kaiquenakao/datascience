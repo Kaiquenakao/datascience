{
 "cells": [
  {
   "cell_type": "code",
   "execution_count": 1,
   "id": "33d2bf8e",
   "metadata": {},
   "outputs": [],
   "source": [
    "from typing import List\n",
    "from collections import Counter"
   ]
  },
  {
   "cell_type": "code",
   "execution_count": 2,
   "id": "3056b8af",
   "metadata": {},
   "outputs": [],
   "source": [
    "def raw_majority_vote(labels: List[str]) -> str:\n",
    "    votes = Counter(labels)\n",
    "    winner, _ = votes.most_common(1)[0]\n",
    "    return winner"
   ]
  },
  {
   "cell_type": "code",
   "execution_count": 3,
   "id": "df968fb4",
   "metadata": {},
   "outputs": [],
   "source": [
    "assert raw_majority_vote(['a', 'b', 'c', 'b']) == 'b'"
   ]
  },
  {
   "cell_type": "code",
   "execution_count": null,
   "id": "9377e659",
   "metadata": {},
   "outputs": [],
   "source": []
  }
 ],
 "metadata": {
  "kernelspec": {
   "display_name": "Python 3 (ipykernel)",
   "language": "python",
   "name": "python3"
  },
  "language_info": {
   "codemirror_mode": {
    "name": "ipython",
    "version": 3
   },
   "file_extension": ".py",
   "mimetype": "text/x-python",
   "name": "python",
   "nbconvert_exporter": "python",
   "pygments_lexer": "ipython3",
   "version": "3.7.9"
  }
 },
 "nbformat": 4,
 "nbformat_minor": 5
}
